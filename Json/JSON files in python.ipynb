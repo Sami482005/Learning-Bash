{
 "cells": [
  {
   "cell_type": "markdown",
   "metadata": {},
   "source": [
    "# What are Json files\n",
    "Store information created by javascript but now available in libraries/modules in several languages.\n",
    "\n",
    "## Requirements:"
   ]
  },
  {
   "cell_type": "code",
   "execution_count": 1,
   "metadata": {},
   "outputs": [],
   "source": [
    "import json\n",
    "\n",
    "String = \"\"\"{\"plasmidfinder\": {\"user_input\": {\"filename(s)\": [\"test/57158258.fasta\"],\"method\": \"blast\",\"file_format\": \"fasta\"},\"run_info\": {\"date\": \"05.07.2024\",\"time\": \"22:14:50\"},\"results\": {\"Enterobacteriales\": {\"enterobacteriales\": {\"AP006726.1 Klebsiella pneumoniae subsp. pneumoniae NTUH-K2044 plasmid pK2044 DNA,complete genome:147141..147710:IncHI1B(pNDM-MAR)_1__JN420336:99.298246\": {\"plasmid\": \"IncHI1B(pNDM-MAR)\",\"identity\": 99.3,\"HSP_length\": 570,\"template_length\": 570,\"position_in_ref\": \"1..570\",\"contig_name\": \"AP006726.1 Klebsiella pneumoniae subsp. pneumoniae NTUH-K2044 plasmid pK2044 DNA,complete genome\",\"positions_in_contig\": \"147141..147710\",\"note\": \"\",\"accession\": \"JN420336\",\"coverage\": 100.0,\"hit_id\": \"AP006726.1 Klebsiella pneumoniae subsp. pneumoniae NTUH-K2044 plasmid pK2044 DNA,complete genome:147141..147710:IncHI1B(pNDM-MAR)_1__JN420336:99.298246\"},\"AP006726.1 Klebsiella pneumoniae subsp. pneumoniae NTUH-K2044 plasmid pK2044 DNA,complete genome:128282..128841:repB_KLEB_VIR_AP006726:100.000000\": {\"plasmid\": \"repB\",\"identity\": 100.0,\"HSP_length\": 560,\"template_length\": 560,\"position_in_ref\": \"1..560\",\"contig_name\": \"AP006726.1 Klebsiella pneumoniae subsp. pneumoniae NTUH-K2044 plasmid pK2044 DNA,complete genome\",\"positions_in_contig\": \"128282..128841\",\"note\": \"VIR\",\"accession\": \"AP006726\",\"coverage\": 100.0,\"hit_id\": \"AP006726.1 Klebsiella pneumoniae subsp. pneumoniae NTUH-K2044 plasmid pK2044 DNA,complete genome:128282..128841:repB_KLEB_VIR_AP006726:100.000000\"}}},\"Gram Positive\": {\"Inc18\": \"No hit found\",\"NT_Rep\": \"No hit found\",\"Rep1\": \"No hit found\",\"Rep2\": \"No hit found\",\"Rep3\": \"No hit found\",\"RepA_N\": \"No hit found\",\"RepL\": \"No hit found\",\"Rep_trans\": \"No hit found\"}}}}\"\"\""
   ]
  },
  {
   "cell_type": "markdown",
   "metadata": {},
   "source": [
    "## From Json to python"
   ]
  },
  {
   "cell_type": "code",
   "execution_count": 2,
   "metadata": {},
   "outputs": [],
   "source": [
    "data = json.loads(String)"
   ]
  },
  {
   "cell_type": "markdown",
   "metadata": {},
   "source": [
    "The method ***loads*** takes a string from the python file, verifies that it is  a true json file (in that format) and will translate it into objects that python understands.\n",
    "array --> list\n",
    "String --> str \n",
    "null --> none\n",
    "true/false ..> True/False\n",
    "etc.\n",
    "Json files is like a nested dictionary where a **key** has a value that can be a list of **keys** each having their own values.\n",
    "The hierarchy can be even more nested depending on the json file.\n",
    "\n",
    "As you can notice the json string above is very messy, we will fix that.\n"
   ]
  },
  {
   "cell_type": "markdown",
   "metadata": {},
   "source": [
    "## Accessing data in json"
   ]
  },
  {
   "cell_type": "code",
   "execution_count": 7,
   "metadata": {},
   "outputs": [
    {
     "name": "stdout",
     "output_type": "stream",
     "text": [
      "AP006726.1 Klebsiella pneumoniae subsp. pneumoniae NTUH-K2044 plasmid pK2044 DNA,complete genome:147141..147710:IncHI1B(pNDM-MAR)_1__JN420336:99.298246\n",
      "\n",
      "AP006726.1 Klebsiella pneumoniae subsp. pneumoniae NTUH-K2044 plasmid pK2044 DNA,complete genome:128282..128841:repB_KLEB_VIR_AP006726:100.000000\n",
      "\n"
     ]
    }
   ],
   "source": [
    "for key in data['plasmidfinder']['results']['Enterobacteriales']['enterobacteriales']:\n",
    "    print(key + \"\\n\")"
   ]
  },
  {
   "cell_type": "markdown",
   "metadata": {},
   "source": [
    "We can also delete data from the dictionary using the del keyword. For example, to delete the key 'RepL' from the dictionary, we can use the following code:"
   ]
  },
  {
   "cell_type": "code",
   "execution_count": 4,
   "metadata": {},
   "outputs": [],
   "source": [
    "del data['plasmidfinder']['results']['Gram Positive']['RepL']"
   ]
  },
  {
   "cell_type": "markdown",
   "metadata": {},
   "source": [
    "# Dumping\n",
    "But since it is very difficult to understand these results, it would be easier if we rewrote them clearly with indentations.\n",
    "For that, we will use the dumps method that takes a string in the python file.\n",
    "We will use the translated json file."
   ]
  },
  {
   "cell_type": "code",
   "execution_count": 5,
   "metadata": {},
   "outputs": [
    {
     "name": "stdout",
     "output_type": "stream",
     "text": [
      "{\n",
      "    \"plasmidfinder\": {\n",
      "        \"user_input\": {\n",
      "            \"filename(s)\": [\n",
      "                \"test/57158258.fasta\"\n",
      "            ],\n",
      "            \"method\": \"blast\",\n",
      "            \"file_format\": \"fasta\"\n",
      "        },\n",
      "        \"run_info\": {\n",
      "            \"date\": \"05.07.2024\",\n",
      "            \"time\": \"22:14:50\"\n",
      "        },\n",
      "        \"results\": {\n",
      "            \"Enterobacteriales\": {\n",
      "                \"enterobacteriales\": {\n",
      "                    \"AP006726.1 Klebsiella pneumoniae subsp. pneumoniae NTUH-K2044 plasmid pK2044 DNA,complete genome:147141..147710:IncHI1B(pNDM-MAR)_1__JN420336:99.298246\": {\n",
      "                        \"plasmid\": \"IncHI1B(pNDM-MAR)\",\n",
      "                        \"identity\": 99.3,\n",
      "                        \"HSP_length\": 570,\n",
      "                        \"template_length\": 570,\n",
      "                        \"position_in_ref\": \"1..570\",\n",
      "                        \"contig_name\": \"AP006726.1 Klebsiella pneumoniae subsp. pneumoniae NTUH-K2044 plasmid pK2044 DNA,complete genome\",\n",
      "                        \"positions_in_contig\": \"147141..147710\",\n",
      "                        \"note\": \"\",\n",
      "                        \"accession\": \"JN420336\",\n",
      "                        \"coverage\": 100.0,\n",
      "                        \"hit_id\": \"AP006726.1 Klebsiella pneumoniae subsp. pneumoniae NTUH-K2044 plasmid pK2044 DNA,complete genome:147141..147710:IncHI1B(pNDM-MAR)_1__JN420336:99.298246\"\n",
      "                    },\n",
      "                    \"AP006726.1 Klebsiella pneumoniae subsp. pneumoniae NTUH-K2044 plasmid pK2044 DNA,complete genome:128282..128841:repB_KLEB_VIR_AP006726:100.000000\": {\n",
      "                        \"plasmid\": \"repB\",\n",
      "                        \"identity\": 100.0,\n",
      "                        \"HSP_length\": 560,\n",
      "                        \"template_length\": 560,\n",
      "                        \"position_in_ref\": \"1..560\",\n",
      "                        \"contig_name\": \"AP006726.1 Klebsiella pneumoniae subsp. pneumoniae NTUH-K2044 plasmid pK2044 DNA,complete genome\",\n",
      "                        \"positions_in_contig\": \"128282..128841\",\n",
      "                        \"note\": \"VIR\",\n",
      "                        \"accession\": \"AP006726\",\n",
      "                        \"coverage\": 100.0,\n",
      "                        \"hit_id\": \"AP006726.1 Klebsiella pneumoniae subsp. pneumoniae NTUH-K2044 plasmid pK2044 DNA,complete genome:128282..128841:repB_KLEB_VIR_AP006726:100.000000\"\n",
      "                    }\n",
      "                }\n",
      "            },\n",
      "            \"Gram Positive\": {\n",
      "                \"Inc18\": \"No hit found\",\n",
      "                \"NT_Rep\": \"No hit found\",\n",
      "                \"Rep1\": \"No hit found\",\n",
      "                \"Rep2\": \"No hit found\",\n",
      "                \"Rep3\": \"No hit found\",\n",
      "                \"RepA_N\": \"No hit found\",\n",
      "                \"Rep_trans\": \"No hit found\"\n",
      "            }\n",
      "        }\n",
      "    }\n",
      "}\n"
     ]
    }
   ],
   "source": [
    "new_String = json.dumps(data, indent=4)\n",
    "print (new_String)"
   ]
  },
  {
   "cell_type": "markdown",
   "metadata": {},
   "source": [
    "You can notice how there is no RepL anymore"
   ]
  },
  {
   "cell_type": "markdown",
   "metadata": {},
   "source": [
    "## Files\n",
    "We can load and dump from json files with a *.json* extension.\n",
    "Here we will use the **load**, and **dump** methods."
   ]
  },
  {
   "cell_type": "code",
   "execution_count": 9,
   "metadata": {},
   "outputs": [
    {
     "name": "stdout",
     "output_type": "stream",
     "text": [
      "r\n",
      "e\n",
      "p\n",
      "B\n",
      "r\n",
      "e\n",
      "p\n",
      "B\n"
     ]
    }
   ],
   "source": [
    "with open ('example.json') as f:\n",
    "    data = json.load(f)\n",
    "\n",
    "for result in data['plasmidfinder']['results']['Enterobacteriales']['enterobacteriales']:\n",
    "    for incgroup in data['plasmidfinder']['results']['Enterobacteriales']['enterobacteriales'][key]['plasmid']:\n",
    "        print(incgroup)"
   ]
  },
  {
   "cell_type": "markdown",
   "metadata": {},
   "source": [
    "### Deleting:\n",
    "Deleting from json files works the same way as in String objects"
   ]
  },
  {
   "cell_type": "markdown",
   "metadata": {},
   "source": [
    "## Dumping:"
   ]
  },
  {
   "cell_type": "code",
   "execution_count": 10,
   "metadata": {},
   "outputs": [],
   "source": [
    "with open('new_json_File.json', 'w') as f:\n",
    "    json.dump(data, f, indent=4)"
   ]
  }
 ],
 "metadata": {
  "kernelspec": {
   "display_name": ".venv",
   "language": "python",
   "name": "python3"
  },
  "language_info": {
   "codemirror_mode": {
    "name": "ipython",
    "version": 3
   },
   "file_extension": ".py",
   "mimetype": "text/x-python",
   "name": "python",
   "nbconvert_exporter": "python",
   "pygments_lexer": "ipython3",
   "version": "3.10.12"
  }
 },
 "nbformat": 4,
 "nbformat_minor": 2
}
